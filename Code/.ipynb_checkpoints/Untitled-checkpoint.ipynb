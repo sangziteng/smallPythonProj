{
 "cells": [
  {
   "cell_type": "code",
   "execution_count": null,
   "metadata": {},
   "outputs": [],
   "source": [
    "    reviews = open(\"../Assignment 2/reviews1.txt\", 'a')"
   ]
  },
  {
   "cell_type": "code",
   "execution_count": null,
   "metadata": {},
   "outputs": [],
   "source": [
    "    print(reviews)"
   ]
  },
  {
   "cell_type": "code",
   "execution_count": null,
   "metadata": {},
   "outputs": [],
   "source": [
    "sss = 'ehlkjs!!!  '"
   ]
  },
  {
   "cell_type": "code",
   "execution_count": null,
   "metadata": {},
   "outputs": [],
   "source": [
    "sss.strip('\\n')"
   ]
  },
  {
   "cell_type": "code",
   "execution_count": null,
   "metadata": {},
   "outputs": [],
   "source": [
    "s = 'that-i love you! '\n",
    "import string"
   ]
  },
  {
   "cell_type": "code",
   "execution_count": null,
   "metadata": {},
   "outputs": [],
   "source": [
    "s.strip(string.punctuation)"
   ]
  },
  {
   "cell_type": "code",
   "execution_count": null,
   "metadata": {},
   "outputs": [],
   "source": [
    "s.replace(string.punctuation, '')"
   ]
  },
  {
   "cell_type": "code",
   "execution_count": null,
   "metadata": {},
   "outputs": [],
   "source": [
    "string.punctuation"
   ]
  },
  {
   "cell_type": "code",
   "execution_count": null,
   "metadata": {},
   "outputs": [],
   "source": [
    "s.translate(None, string.punctuation)"
   ]
  },
  {
   "cell_type": "code",
   "execution_count": null,
   "metadata": {},
   "outputs": [],
   "source": [
    "s.translate(string.punctuation)"
   ]
  },
  {
   "cell_type": "code",
   "execution_count": null,
   "metadata": {},
   "outputs": [],
   "source": [
    "for c in string.punctuation:\n",
    "    s=s.replace(c,\"\")"
   ]
  },
  {
   "cell_type": "code",
   "execution_count": null,
   "metadata": {},
   "outputs": [],
   "source": [
    "s"
   ]
  },
  {
   "cell_type": "code",
   "execution_count": null,
   "metadata": {},
   "outputs": [],
   "source": [
    "s.split(string.punctuation)"
   ]
  },
  {
   "cell_type": "code",
   "execution_count": null,
   "metadata": {},
   "outputs": [],
   "source": [
    "for c in string.punctuation and ' ':\n",
    "    "
   ]
  },
  {
   "cell_type": "code",
   "execution_count": null,
   "metadata": {},
   "outputs": [],
   "source": [
    "string.punctuation += ' '"
   ]
  },
  {
   "cell_type": "code",
   "execution_count": null,
   "metadata": {},
   "outputs": [],
   "source": [
    "string.punctuation\n"
   ]
  },
  {
   "cell_type": "code",
   "execution_count": null,
   "metadata": {},
   "outputs": [],
   "source": [
    "for c in string.punctuation:\n",
    "    s = s.replace(c,\"\")\n"
   ]
  },
  {
   "cell_type": "code",
   "execution_count": null,
   "metadata": {},
   "outputs": [],
   "source": [
    "s"
   ]
  },
  {
   "cell_type": "code",
   "execution_count": null,
   "metadata": {},
   "outputs": [],
   "source": [
    "a = {'a':1,'b':4}\n",
    "b = {'a':10, 'b':3, 'c':5}"
   ]
  },
  {
   "cell_type": "code",
   "execution_count": null,
   "metadata": {},
   "outputs": [],
   "source": [
    "a+b\n"
   ]
  },
  {
   "cell_type": "code",
   "execution_count": null,
   "metadata": {},
   "outputs": [],
   "source": [
    "for aa in a:\n",
    "    if aa not in b:\n",
    "        b[aa] = 0\n",
    "    b[aa] += a[aa]"
   ]
  },
  {
   "cell_type": "code",
   "execution_count": null,
   "metadata": {},
   "outputs": [],
   "source": [
    "b"
   ]
  },
  {
   "cell_type": "code",
   "execution_count": null,
   "metadata": {},
   "outputs": [],
   "source": [
    "a = {'d':3, 'a':100}"
   ]
  },
  {
   "cell_type": "code",
   "execution_count": null,
   "metadata": {},
   "outputs": [],
   "source": [
    "for aa in a:\n",
    "    if aa not in b:\n",
    "        b[aa] = 0\n",
    "    b[aa] += a[aa]\n",
    "\n",
    "b"
   ]
  },
  {
   "cell_type": "code",
   "execution_count": 1,
   "metadata": {},
   "outputs": [],
   "source": [
    "    "
   ]
  },
  {
   "cell_type": "code",
   "execution_count": 45,
   "metadata": {},
   "outputs": [
    {
     "name": "stdout",
     "output_type": "stream",
     "text": [
      "Review #: 1\n",
      "Review #: 2\n",
      "Review #: 3\n",
      "{'wanted': 1, 'toddler': 1, 'child': 5, 'eat': 1, 'dining': 3, 'room': 2, 'table': 8, 'family': 1, 'decorative': 3, 'downward': 1, 'lip': 3, 'wouldn': 1, 'allow': 1, 'current': 1, 'high': 8, 'chair': 21, 'completely': 2, 'pull': 4, 'legs': 2, 'beneath': 1, 'seat': 5, 'multiple': 1, 'height': 2, 'settings': 1, 'lowest': 1, 'flat': 1, 'base': 1, 'bottom': 1, 'low': 2, 'setting': 1, 'allows': 1, 'excellent': 1, 'choice': 1, 'sit': 2, 'haven': 1, 'tray': 14, 'purchase': 1, 'needing': 1, 'sturdy': 1, 'previous': 1, 'fp': 1, 'bought': 1, 'replace': 1, '1': 2, 'year': 2, 'daughter': 3, 'love': 2, 'pulling': 1, 'hair': 1, 'cleaning': 1, 'meal': 1, 'easy': 4, 'clean': 3, 'versatile': 2, 'pros': 1, 'cracks': 1, 'food': 5, 'slide': 2, 'ahhhh': 1, 'attaches': 2, 'securely': 1, 'will': 3, 'nice': 2, 'long': 1, 'straps': 1, 'case': 2, 'big': 4, 'close': 1, 'baby': 5, 'lap': 1, 'three': 3, 'places': 1, 'attach': 1, 'depending': 1, 'size': 3, 'smaller': 1, 'trays': 2, 'fits': 4, 'easily': 2, 'sink': 1, 'dishwasher': 1, 'heights': 1, 'labelled': 1, 'blue': 2, 'white': 1, 'top': 1, 'green': 2, 'cover': 2, 'amazon': 1, 'colors': 1, 'red': 1, 'yellow': 1, 'chairs': 2, 'adjustment': 1, 'light': 1, 'folds': 2, 'carry': 1, 'restaurant': 2, 'booster': 3, 'price': 1, 'absolutely': 1, 'reason': 1, 'spend': 1, '100': 1, 'cushy': 1, 'dig': 1, '2': 2, 'years': 1, 'roll': 1, 'kitchen': 2, 'comfy': 1, 'nicely': 1, 'cons': 1, '22': 1, 'pounds': 1, 'fine': 2, 'belly': 1, 'start': 1, 'push': 1, 'update': 1, 'everyday': 1, 'tested': 1, 'limits': 1, 'lunge': 1, 'waist': 1, 'strap': 1, 'fastened': 1, 'rock': 1, 'secure': 1, 'worse': 1, 'abuse': 1, 'average': 1, 'recognizes': 1, 'eating': 1, 'restaurants': 1, 'todder': 1, 'miserable': 1, 'experience': 1, 'climb': 1, 'son': 1, '20': 1, 'lbs': 1, '6': 1, 'months': 1, 'well': 1, 'parents': 1, 'kids': 1, 'll': 1, 'fit': 1, 'max': 1, 'weight': 1, 'hopefully': 1, 'feeling': 1, 'wasted': 1, 'money': 1, 'buying': 1, 'regular': 1, 'crowds': 1, 'small': 1, 'adjusts': 1, 'cervices': 1, 'trap': 1, 'great': 1, 'keeping': 1, 'nosey': 1, 'cats': 1, 'unfinished': 1}\n",
      "{'wanted': 1, 'toddler': 1, 'child': 1, 'eat': 1, 'dining': 2, 'room': 2, 'table': 2, 'family': 1, 'decorative': 1, 'downward': 1, 'lip': 1, 'wouldn': 1, 'allow': 1, 'current': 1, 'high': 2, 'chair': 2, 'completely': 2, 'pull': 2, 'legs': 1, 'beneath': 1, 'seat': 3, 'multiple': 1, 'height': 2, 'settings': 1, 'lowest': 1, 'flat': 1, 'base': 1, 'bottom': 1, 'low': 2, 'setting': 1, 'allows': 1, 'excellent': 1, 'choice': 1, 'sit': 1, 'haven': 1, 'tray': 3, 'purchase': 1, 'needing': 1, 'sturdy': 1, 'previous': 1, 'fp': 1, 'bought': 1, 'replace': 1, '1': 1, 'year': 2, 'daughter': 1, 'love': 1, 'pulling': 1, 'hair': 1, 'cleaning': 1, 'meal': 1, 'easy': 2, 'clean': 2, 'versatile': 1, 'pros': 1, 'cracks': 1, 'food': 2, 'slide': 1, 'ahhhh': 1, 'attaches': 2, 'securely': 1, 'will': 1, 'nice': 1, 'long': 1, 'straps': 1, 'case': 1, 'big': 2, 'close': 1, 'baby': 1, 'lap': 1, 'three': 1, 'places': 1, 'attach': 1, 'depending': 1, 'size': 2, 'smaller': 1, 'trays': 1, 'fits': 2, 'easily': 1, 'sink': 1, 'dishwasher': 1, 'heights': 1, 'labelled': 1, 'blue': 1, 'white': 1, 'top': 1, 'green': 1, 'cover': 2, 'amazon': 1, 'colors': 1, 'red': 1, 'yellow': 1, 'chairs': 1, 'adjustment': 1, 'light': 1, 'folds': 1, 'carry': 1, 'restaurant': 1, 'booster': 2, 'price': 1, 'absolutely': 1, 'reason': 1, 'spend': 1, '100': 1, 'cushy': 1, 'dig': 1, '2': 1, 'years': 1, 'roll': 1, 'kitchen': 2, 'comfy': 1, 'nicely': 1, 'cons': 1, '22': 1, 'pounds': 1, 'fine': 1, 'belly': 1, 'start': 1, 'push': 1, 'update': 1, 'everyday': 1, 'tested': 1, 'limits': 1, 'lunge': 1, 'waist': 1, 'strap': 1, 'fastened': 1, 'rock': 1, 'secure': 1, 'worse': 1, 'abuse': 1, 'average': 1, 'recognizes': 1, 'eating': 1, 'restaurants': 1, 'todder': 1, 'miserable': 1, 'experience': 1, 'climb': 1, 'son': 1, '20': 1, 'lbs': 1, '6': 1, 'months': 1, 'well': 1, 'parents': 1, 'kids': 1, 'll': 1, 'fit': 1, 'max': 1, 'weight': 1, 'hopefully': 1, 'feeling': 1, 'wasted': 1, 'money': 1, 'buying': 1, 'regular': 1, 'crowds': 1, 'small': 1, 'adjusts': 1, 'cervices': 1, 'trap': 1, 'great': 1, 'keeping': 1, 'nosey': 1, 'cats': 1, 'unfinished': 1}\n"
     ]
    }
   ],
   "source": [
    "    import pandas as pd\n",
    "    import string\n",
    "    import re\n",
    "\n",
    "    reviewFile = \"../Assignment 2/reviews3.txt\"\n",
    "    stopwordFile = \"../Assignment 2/stopwords.txt\"\n",
    "    \n",
    "    \n",
    "    ## the logic about stop words\n",
    "    stopwords = open(stopwordFile, 'r')\n",
    "    stopword_list = []\n",
    "    for stopw in stopwords:\n",
    "        stopw = stopw.strip()\n",
    "        stopword_list.append(stopw)\n",
    "        \n",
    "    \n",
    "    reviewfile = open(reviewFile, 'r')\n",
    "    words = [] # define an empty list\n",
    "    \n",
    "    each_review_word_dic = {} #define an empty dictionary to accept the word and count for each review\n",
    "    occurences = {} #define an empty dictionary to accept all the word and occurences for all the reviews\n",
    "    reviews = {} #define an empty dictionary to count how many reviews have XX review word\n",
    "    \n",
    "    \n",
    "    \n",
    "    review_num = 0\n",
    "    \n",
    "    for review in reviewfile:\n",
    "        review = review.strip()\n",
    "        \n",
    "        if review.startswith(\"Review #:\"): \n",
    "            review_num += 1\n",
    "            print(\"Review #:\", review_num) #for debug: show current review number\n",
    "            continue\n",
    "        elif review.startswith(\"Date:\"): \n",
    "            continue\n",
    "        else: \n",
    "            #start to analyze the content of a single review\n",
    "            #delete all the punctuations using Regex. (better than string.punctuation)\n",
    "            #and then strip the whitespaces and split into words list in lowercase \n",
    "            words = re.sub(r'[^\\w\\s]',' ',review).strip().lower().split(' ')\n",
    "            \n",
    "            for word in words:\n",
    "                word = word.strip()\n",
    "  \n",
    "                #skip all the stopwords\n",
    "                if word in stopword_list:\n",
    "                    continue\n",
    "                if word == '':\n",
    "                    continue\n",
    "                    \n",
    "                # count how many times the word occurs in this review separately\n",
    "                if word not in each_review_word_dic:\n",
    "                    each_review_word_dic[word] = 0\n",
    "                each_review_word_dic[word] += 1\n",
    "\n",
    "            #before finish the process for each review, we add each_review_word_dic to occurences\n",
    "            for each_review_word in each_review_word_dic:\n",
    "                if each_review_word not in occurences:\n",
    "                    occurences[each_review_word] = 0\n",
    "                occurences[each_review_word] += each_review_word_dic[each_review_word]\n",
    "        \n",
    "                #before finish the process for current review, add 1 to the # of reviews if the word occures\n",
    "                if each_review_word not in reviews:\n",
    "                    reviews[each_review_word] = 0\n",
    "                reviews[each_review_word] += 1\n",
    "        \n",
    "        each_review_word_dic = {} #reset the each_review_word_dic dictionary for next review        \n",
    "\n",
    "\n",
    "    reviewfile.close()\n",
    "    stopwords.close()\n",
    "    \n",
    "    \n",
    "    print(occurences)\n",
    "    print(reviews)"
   ]
  },
  {
   "cell_type": "code",
   "execution_count": null,
   "metadata": {},
   "outputs": [],
   "source": [
    "\n",
    "                \n",
    "           \n",
    "        \n",
    "        \n",
    "            if each_review_word not in reviews:\n",
    "                reviews[each_review_word] = 0\n",
    "            reviews[each_review_word] += 1\n",
    "            \n",
    "        each_review_word_dic = {} #reset the each_review_word_dic dictionary for next review        \n"
   ]
  },
  {
   "cell_type": "code",
   "execution_count": null,
   "metadata": {},
   "outputs": [],
   "source": [
    "occurences.keys()"
   ]
  },
  {
   "cell_type": "code",
   "execution_count": null,
   "metadata": {},
   "outputs": [],
   "source": [
    "pd.DataFrame(occurences.keys(), occurences.values(), reviews.values(), columns = ['Occurences', 'Reviews'])"
   ]
  },
  {
   "cell_type": "code",
   "execution_count": null,
   "metadata": {},
   "outputs": [],
   "source": [
    "pd.DataFrame(occurences)"
   ]
  },
  {
   "cell_type": "code",
   "execution_count": null,
   "metadata": {},
   "outputs": [],
   "source": [
    "    occurences_df = pd.DataFrame.from_dict(occurences, orient = 'index', columns = ['Occurences'])\n",
    "    reviews_df = pd.DataFrame.from_dict(reviews, orient = 'index', columns = ['Reviews'])\n",
    "    \n",
    "    #join the two dataframe on index(word)\n",
    "    finalDataFrame = pd.merge(occurences_df, reviews_df,left_index=True, right_index=True)\n",
    "    finalDataFrame"
   ]
  },
  {
   "cell_type": "code",
   "execution_count": 12,
   "metadata": {},
   "outputs": [
    {
     "data": {
      "text/plain": [
       "'lip).'"
      ]
     },
     "execution_count": 12,
     "metadata": {},
     "output_type": "execute_result"
    }
   ],
   "source": [
    "w1 = 'lip).'\n",
    "w1.strip()"
   ]
  },
  {
   "cell_type": "code",
   "execution_count": 13,
   "metadata": {},
   "outputs": [
    {
     "data": {
      "text/plain": [
       "'lip'"
      ]
     },
     "execution_count": 13,
     "metadata": {},
     "output_type": "execute_result"
    }
   ],
   "source": [
    "w1.strip(string.punctuation)"
   ]
  },
  {
   "cell_type": "code",
   "execution_count": 32,
   "metadata": {},
   "outputs": [
    {
     "data": {
      "text/plain": [
       "'hello  I m carrie liskjdkfj02    '"
      ]
     },
     "execution_count": 32,
     "metadata": {},
     "output_type": "execute_result"
    }
   ],
   "source": [
    "import re\n",
    "test = 'hello, I\"m carrie liskjdkfj02`???'\n",
    "#test.replace(str(string.punctuation), ' ')\n",
    "re.sub(r'[^\\w\\s]',' ',test)\n"
   ]
  },
  {
   "cell_type": "code",
   "execution_count": 26,
   "metadata": {},
   "outputs": [
    {
     "data": {
      "text/plain": [
       "['!',\n",
       " '\"',\n",
       " '#',\n",
       " '$',\n",
       " '%',\n",
       " '&',\n",
       " \"'\",\n",
       " '(',\n",
       " ')',\n",
       " '*',\n",
       " '+',\n",
       " ',',\n",
       " '-',\n",
       " '.',\n",
       " '/',\n",
       " ':',\n",
       " ';',\n",
       " '<',\n",
       " '=',\n",
       " '>',\n",
       " '?',\n",
       " '@',\n",
       " '[',\n",
       " '\\\\',\n",
       " ']',\n",
       " '^',\n",
       " '_',\n",
       " '`',\n",
       " '{',\n",
       " '|',\n",
       " '}',\n",
       " '~']"
      ]
     },
     "execution_count": 26,
     "metadata": {},
     "output_type": "execute_result"
    }
   ],
   "source": [
    "list(string.punctuation)"
   ]
  },
  {
   "cell_type": "code",
   "execution_count": null,
   "metadata": {},
   "outputs": [],
   "source": []
  }
 ],
 "metadata": {
  "kernelspec": {
   "display_name": "Python 3",
   "language": "python",
   "name": "python3"
  },
  "language_info": {
   "codemirror_mode": {
    "name": "ipython",
    "version": 3
   },
   "file_extension": ".py",
   "mimetype": "text/x-python",
   "name": "python",
   "nbconvert_exporter": "python",
   "pygments_lexer": "ipython3",
   "version": "3.7.1"
  }
 },
 "nbformat": 4,
 "nbformat_minor": 2
}
