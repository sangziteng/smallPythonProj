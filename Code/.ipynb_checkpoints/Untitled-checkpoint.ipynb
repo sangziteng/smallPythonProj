{
 "cells": [
  {
   "cell_type": "code",
   "execution_count": 1,
   "metadata": {},
   "outputs": [],
   "source": [
    "import matplotlib\n",
    "import matplotlib.pyplot as plt\n",
    "import pandas as pd\n",
    "import squarify"
   ]
  },
  {
   "cell_type": "code",
   "execution_count": 7,
   "metadata": {},
   "outputs": [
    {
     "ename": "SyntaxError",
     "evalue": "keyword argument repeated (<ipython-input-7-d2840a56a5ff>, line 4)",
     "output_type": "error",
     "traceback": [
      "\u001b[0;36m  File \u001b[0;32m\"<ipython-input-7-d2840a56a5ff>\"\u001b[0;36m, line \u001b[0;32m4\u001b[0m\n\u001b[0;31m    squarify.plot(sizes=population, label=year, label=.7 )\u001b[0m\n\u001b[0m                                               ^\u001b[0m\n\u001b[0;31mSyntaxError\u001b[0m\u001b[0;31m:\u001b[0m keyword argument repeated\n"
     ]
    }
   ],
   "source": [
    "population=[1000000,800000,300000,2000000,5000000]\n",
    "year=['2014','2015','2016','2017','2018']\n",
    " \n",
    "squarify.plot(sizes=population, label=year, label=.7 )\n",
    "plt.axis('off')\n",
    "plt.show()"
   ]
  },
  {
   "cell_type": "code",
   "execution_count": 5,
   "metadata": {},
   "outputs": [
    {
     "name": "stdout",
     "output_type": "stream",
     "text": [
      "Help on function plot in module squarify:\n",
      "\n",
      "plot(sizes, norm_x=100, norm_y=100, color=None, label=None, value=None, ax=None, bar_kwargs=None, text_kwargs=None)\n",
      "    Plotting with Matplotlib.\n",
      "    \n",
      "    Parameters\n",
      "    ----------\n",
      "    sizes\n",
      "        input for squarify\n",
      "    norm_x, norm_y\n",
      "        x and y values for normalization\n",
      "    color\n",
      "        color string or list-like (see Matplotlib documentation for details)\n",
      "    label\n",
      "        list-like used as label text\n",
      "    value\n",
      "        list-like used as value text (in most cases identical with sizes argument)\n",
      "    ax\n",
      "        Matplotlib Axes instance\n",
      "    label\n",
      "        fontsize of the labels\n",
      "    bar_kwargs : dict\n",
      "        keyword arguments passed to matplotlib.Axes.bar\n",
      "    text_kwargs : dict\n",
      "        keyword arguments passed to matplotlib.Axes.text\n",
      "    \n",
      "    Returns\n",
      "    -------\n",
      "    matplotlib.axes.Axes\n",
      "        Matplotlib Axes\n",
      "\n"
     ]
    }
   ],
   "source": [
    "help(squarify.plot)"
   ]
  },
  {
   "cell_type": "code",
   "execution_count": null,
   "metadata": {},
   "outputs": [],
   "source": []
  }
 ],
 "metadata": {
  "kernelspec": {
   "display_name": "Python 3",
   "language": "python",
   "name": "python3"
  },
  "language_info": {
   "codemirror_mode": {
    "name": "ipython",
    "version": 3
   },
   "file_extension": ".py",
   "mimetype": "text/x-python",
   "name": "python",
   "nbconvert_exporter": "python",
   "pygments_lexer": "ipython3",
   "version": "3.7.1"
  }
 },
 "nbformat": 4,
 "nbformat_minor": 2
}
