{
 "cells": [
  {
   "cell_type": "code",
   "execution_count": 11,
   "metadata": {},
   "outputs": [],
   "source": [
    "#Q1\n",
    "import moduletest as mt"
   ]
  },
  {
   "cell_type": "code",
   "execution_count": 3,
   "metadata": {},
   "outputs": [
    {
     "name": "stdout",
     "output_type": "stream",
     "text": [
      "Enter hours worked(or done): 38\n",
      "Pay is 380.0\n",
      "Enter hours worked(or done):42\n",
      "Pay is 430.0\n",
      "Enter hours worked(or done):done\n"
     ]
    }
   ],
   "source": [
    "userInput = input(\"Enter hours worked(or done): \")\n",
    "while userInput != 'done':\n",
    "    if userInput != 'skip':\n",
    "        hours = int(userInput)\n",
    "        print('Pay is', mt.calculateWage(hours))\n",
    "    userInput = input('Enter hours worked(or done):')"
   ]
  },
  {
   "cell_type": "code",
   "execution_count": 12,
   "metadata": {},
   "outputs": [],
   "source": [
    "#Q2\n",
    "from moduletest import calculateWage"
   ]
  },
  {
   "cell_type": "code",
   "execution_count": 10,
   "metadata": {},
   "outputs": [
    {
     "name": "stdout",
     "output_type": "stream",
     "text": [
      "Enter hours worked(or done):38\n",
      "Pay is 380.0\n",
      "Enter hours worked(or done):42\n",
      "Pay is 430.0\n",
      "Enter hours worked(or done):done\n"
     ]
    }
   ],
   "source": [
    "while True:\n",
    "    userInput = input(\"Enter hours worked(or done):\")\n",
    "    if userInput == 'done':\n",
    "        break\n",
    "    elif userInput == 'skip':\n",
    "        continue\n",
    "    hours = float(userInput)\n",
    "    print('Pay is', calculateWage(hours))"
   ]
  },
  {
   "cell_type": "code",
   "execution_count": 24,
   "metadata": {},
   "outputs": [
    {
     "name": "stdout",
     "output_type": "stream",
     "text": [
      "Enter inventory (or done):2.5\n",
      "Invalid input\n",
      "Enter inventory (or done):30\n",
      "Pay is 70.0\n",
      "Enter inventory (or done):done\n"
     ]
    }
   ],
   "source": [
    "#Q3\n",
    "import moduletest as mt\n",
    "\n",
    "while True:\n",
    "    userInput = input(\"Enter inventory (or done):\")\n",
    "    if userInput == 'done':\n",
    "        break\n",
    "    elif userInput == 'skip':\n",
    "        continue\n",
    "        \n",
    "    # the following try and except part can be written in a isInteger(x) function    \n",
    "    try:\n",
    "        ui = int(userInput)\n",
    "    except:\n",
    "        print(\"Invalid input\")\n",
    "        continue\n",
    "    \n",
    "    # if everything (input) is valid, we can run the following logic to calculate the order quantity\n",
    "    hours = float(userInput)\n",
    "    print('Pay is', mt.orderQuantity(hours))\n",
    "    \n",
    "    "
   ]
  },
  {
   "cell_type": "code",
   "execution_count": 23,
   "metadata": {},
   "outputs": [
    {
     "name": "stdout",
     "output_type": "stream",
     "text": [
      "Enter hours worked(or done): 2\n",
      "Pay is 20.0\n",
      "Enter hours worked(or done): 3\n",
      "Pay is 30.0\n",
      "Enter hours worked(or done): 4\n",
      "Pay is 40.0\n",
      "Enter hours worked(or done): 1\n",
      "Pay is 10.0\n",
      "Enter hours worked(or done): skip\n"
     ]
    }
   ],
   "source": [
    "#Q4\n",
    "for i in range(5):\n",
    "    userInput = input(\"Enter hours worked(or done): \")\n",
    "    if userInput != 'done':\n",
    "        if userInput != 'skip':\n",
    "            hours = int(userInput)\n",
    "            print('Pay is', mt.calculateWage(hours))\n",
    "    else:\n",
    "        break\n"
   ]
  },
  {
   "cell_type": "code",
   "execution_count": null,
   "metadata": {},
   "outputs": [],
   "source": []
  }
 ],
 "metadata": {
  "kernelspec": {
   "display_name": "Python 3",
   "language": "python",
   "name": "python3"
  },
  "language_info": {
   "codemirror_mode": {
    "name": "ipython",
    "version": 3
   },
   "file_extension": ".py",
   "mimetype": "text/x-python",
   "name": "python",
   "nbconvert_exporter": "python",
   "pygments_lexer": "ipython3",
   "version": "3.7.1"
  }
 },
 "nbformat": 4,
 "nbformat_minor": 2
}
