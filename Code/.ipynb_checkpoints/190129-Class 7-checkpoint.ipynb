{
 "cells": [
  {
   "cell_type": "code",
   "execution_count": 9,
   "metadata": {},
   "outputs": [
    {
     "name": "stdout",
     "output_type": "stream",
     "text": [
      "{'happy': 53, 'cheap': 30, 'amazing': 1, 'price': 2}\n"
     ]
    }
   ],
   "source": [
    "#Q1\n",
    "\n",
    "total = {'happy': 51, 'cheap': 30}\n",
    "current = {'happy': 2, 'amazing': 1, 'price': 2}\n",
    "\n",
    "for i in current.keys():\n",
    "    if i not in total.keys():\n",
    "        total[i] = 0\n",
    "    total[i] += current[i]\n",
    "\n",
    "print(total)"
   ]
  },
  {
   "cell_type": "code",
   "execution_count": 10,
   "metadata": {},
   "outputs": [
    {
     "name": "stdout",
     "output_type": "stream",
     "text": [
      "190108-Class 1.ipynb  190122-Class 5.ipynb  \u001b[1m\u001b[32m__pycache__\u001b[m\u001b[m/\r\n",
      "190110-Class 2.ipynb  190124-Class 6.ipynb  mbox-short.txt\r\n",
      "190115-Class 3.ipynb  190129-Class 7.ipynb  moduletest.py\r\n",
      "190117-Class 4.ipynb  Assignment 0.ipynb\r\n"
     ]
    }
   ],
   "source": [
    "ls"
   ]
  },
  {
   "cell_type": "code",
   "execution_count": 33,
   "metadata": {},
   "outputs": [
    {
     "name": "stdout",
     "output_type": "stream",
     "text": [
      "caret.cam.ac.uk\n",
      "gmail.com\n",
      "iupui.edu\n",
      "media.berkeley.edu\n",
      "uct.ac.za\n",
      "umich.edu\n"
     ]
    }
   ],
   "source": [
    "#Q7 from last session \n",
    "line = open('mbox-short.txt','r')\n",
    "mails = []\n",
    "for l in line:\n",
    "    l = l.rstrip('\\n')\n",
    "    if l.startswith('From:'):\n",
    "        mails.append(l[l.index('@')+1:len(l)])\n",
    "\n",
    "line.close()\n",
    "print(*sorted(set(mails)),sep='\\n')    "
   ]
  },
  {
   "cell_type": "code",
   "execution_count": 23,
   "metadata": {},
   "outputs": [
    {
     "data": {
      "text/plain": [
       "['amazing', 'cheap', 'happy', 'price']"
      ]
     },
     "execution_count": 23,
     "metadata": {},
     "output_type": "execute_result"
    }
   ],
   "source": [
    "sorted(total.keys())"
   ]
  },
  {
   "cell_type": "code",
   "execution_count": 24,
   "metadata": {},
   "outputs": [
    {
     "data": {
      "text/plain": [
       "['amazing', 'cheap', 'happy', 'price']"
      ]
     },
     "execution_count": 24,
     "metadata": {},
     "output_type": "execute_result"
    }
   ],
   "source": [
    "sorted(total)"
   ]
  },
  {
   "cell_type": "code",
   "execution_count": null,
   "metadata": {},
   "outputs": [],
   "source": [
    "#Q2, and #Q7b from last session\n",
    "line = open('mbox-short.txt','r')\n",
    "mails = []\n",
    "for l in line:\n",
    "    l = l.rstrip('\\n')\n",
    "    if l.startswith('From:'):\n",
    "        mails.append(l[l.index('@')+1:len(l)])\n",
    "\n",
    "        \n",
    "line.close()"
   ]
  },
  {
   "cell_type": "code",
   "execution_count": null,
   "metadata": {},
   "outputs": [],
   "source": []
  }
 ],
 "metadata": {
  "kernelspec": {
   "display_name": "Python 3",
   "language": "python",
   "name": "python3"
  },
  "language_info": {
   "codemirror_mode": {
    "name": "ipython",
    "version": 3
   },
   "file_extension": ".py",
   "mimetype": "text/x-python",
   "name": "python",
   "nbconvert_exporter": "python",
   "pygments_lexer": "ipython3",
   "version": "3.7.1"
  }
 },
 "nbformat": 4,
 "nbformat_minor": 2
}
