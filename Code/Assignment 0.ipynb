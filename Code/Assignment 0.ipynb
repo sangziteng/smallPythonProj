{
 "cells": [
  {
   "cell_type": "markdown",
   "metadata": {},
   "source": [
    "# Assignment 0: Installation Check\n",
    "\n",
    "**Name:** Xiaojue Zhang\n",
    "\n",
    "The following code tests that you have the essential packages we will use installed. Running the code will create a tmp_assignment0.xlsx and a tmp_assignment0.csv file, which you can delete later. You are not expected to understand the code yet."
   ]
  },
  {
   "cell_type": "code",
   "execution_count": 1,
   "metadata": {},
   "outputs": [
    {
     "data": {
      "text/plain": [
       "<Figure size 640x480 with 1 Axes>"
      ]
     },
     "metadata": {},
     "output_type": "display_data"
    },
    {
     "name": "stdout",
     "output_type": "stream",
     "text": [
      "Success (Python 3.7)\n"
     ]
    }
   ],
   "source": [
    "import numpy as np\n",
    "import matplotlib.pyplot as plt\n",
    "from scipy.stats import norm, expon\n",
    "import pandas as pd\n",
    "import sys\n",
    "import seaborn\n",
    "\n",
    "csvFile='tmp_assignment0.csv'\n",
    "xlsxFile='tmp_assignment0.xlsx'\n",
    "np.random.seed(0)\n",
    "df=pd.DataFrame({'X':np.linspace(0,10,10),'Random Data':norm(0,1).rvs(10)})\n",
    "df.to_csv(csvFile,index=False)\n",
    "df=pd.read_csv(csvFile)\n",
    "df.to_excel(xlsxFile,sheet_name='Test',index=False)\n",
    "df=pd.read_excel(xlsxFile,sheet_name='Test')\n",
    "df.plot('X','Random Data',kind='line')\n",
    "plt.show()\n",
    "\n",
    "print('Success (Python %d.%d)'%(sys.version_info[0],sys.version_info[1]))\n"
   ]
  },
  {
   "cell_type": "code",
   "execution_count": null,
   "metadata": {},
   "outputs": [],
   "source": []
  }
 ],
 "metadata": {
  "kernelspec": {
   "display_name": "Python 3",
   "language": "python",
   "name": "python3"
  },
  "language_info": {
   "codemirror_mode": {
    "name": "ipython",
    "version": 3
   },
   "file_extension": ".py",
   "mimetype": "text/x-python",
   "name": "python",
   "nbconvert_exporter": "python",
   "pygments_lexer": "ipython3",
   "version": "3.7.1"
  }
 },
 "nbformat": 4,
 "nbformat_minor": 2
}
