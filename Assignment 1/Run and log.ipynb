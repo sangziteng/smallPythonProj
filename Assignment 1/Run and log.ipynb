{
 "cells": [
  {
   "cell_type": "code",
   "execution_count": 1,
   "metadata": {},
   "outputs": [],
   "source": [
    "import decisionTree as tree"
   ]
  },
  {
   "cell_type": "code",
   "execution_count": 2,
   "metadata": {},
   "outputs": [
    {
     "name": "stdout",
     "output_type": "stream",
     "text": [
      "Clinical Decision Support for Suspected Acute Cardiac Ischemia V1.0\n",
      "Q1: Is there ECG evidence of acute Myocardial Infarction (MI)? (Y/N)\n",
      "Y\n",
      "Diagnosis: Patient has HIGH risk, refer to Coronary Care Unit\n"
     ]
    }
   ],
   "source": [
    "#situation 1\n",
    "tree.implement()"
   ]
  },
  {
   "cell_type": "code",
   "execution_count": 3,
   "metadata": {},
   "outputs": [
    {
     "name": "stdout",
     "output_type": "stream",
     "text": [
      "Clinical Decision Support for Suspected Acute Cardiac Ischemia V1.0\n",
      "Q1: Is there ECG evidence of acute Myocardial Infarction (MI)? (Y/N)\n",
      "N\n",
      "Q2: Is there ECG evidence of acute Ischemia?\n",
      "Y\n",
      "How many urgent factors are present? (0/1/2/3)\n",
      "1\n",
      "Diagnosis: Patient has MODERATE risk, refer to Inpatient Telemetry Unit.\n"
     ]
    }
   ],
   "source": [
    "#situation 2\n",
    "tree.implement()"
   ]
  },
  {
   "cell_type": "code",
   "execution_count": 4,
   "metadata": {},
   "outputs": [
    {
     "name": "stdout",
     "output_type": "stream",
     "text": [
      "Clinical Decision Support for Suspected Acute Cardiac Ischemia V1.0\n",
      "Q1: Is there ECG evidence of acute Myocardial Infarction (MI)? (Y/N)\n",
      "y\n",
      "Invalid response. Please restart\n"
     ]
    }
   ],
   "source": [
    "#situation 3\n",
    "tree.implement()"
   ]
  },
  {
   "cell_type": "code",
   "execution_count": 5,
   "metadata": {},
   "outputs": [
    {
     "name": "stdout",
     "output_type": "stream",
     "text": [
      "Clinical Decision Support for Suspected Acute Cardiac Ischemia V1.0\n",
      "Q1: Is there ECG evidence of acute Myocardial Infarction (MI)? (Y/N)\n",
      "N\n",
      "Q2: Is there ECG evidence of acute Ischemia?\n",
      "N\n",
      "How many urgent factors are present? (0/1/2/3)\n",
      "4\n",
      "Invalid response. Please restart\n"
     ]
    }
   ],
   "source": [
    "#situation 4\n",
    "tree.implement()"
   ]
  },
  {
   "cell_type": "code",
   "execution_count": 7,
   "metadata": {},
   "outputs": [
    {
     "name": "stdout",
     "output_type": "stream",
     "text": [
      "Help on function implement in module decisionTree:\n",
      "\n",
      "implement()\n",
      "    This is a function that implements a decision tree for triaging \n",
      "    suspected patients for acute cardiac ischemia using the command line.\n",
      "    The tree is developed by Lee Goldman, and tested in a field study in\n",
      "    the article: https://jamanetwork.com/journals/jama/fullarticle/195118\n",
      "\n"
     ]
    }
   ],
   "source": [
    "#situation 5\n",
    "help(tree.implement)"
   ]
  },
  {
   "cell_type": "code",
   "execution_count": null,
   "metadata": {},
   "outputs": [],
   "source": []
  }
 ],
 "metadata": {
  "kernelspec": {
   "display_name": "Python 3",
   "language": "python",
   "name": "python3"
  },
  "language_info": {
   "codemirror_mode": {
    "name": "ipython",
    "version": 3
   },
   "file_extension": ".py",
   "mimetype": "text/x-python",
   "name": "python",
   "nbconvert_exporter": "python",
   "pygments_lexer": "ipython3",
   "version": "3.7.1"
  }
 },
 "nbformat": 4,
 "nbformat_minor": 2
}
